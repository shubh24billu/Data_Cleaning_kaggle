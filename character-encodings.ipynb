{
 "cells": [
  {
   "cell_type": "markdown",
   "id": "6705bbd8",
   "metadata": {
    "papermill": {
     "duration": 0.00589,
     "end_time": "2022-09-09T17:26:06.797650",
     "exception": false,
     "start_time": "2022-09-09T17:26:06.791760",
     "status": "completed"
    },
    "tags": []
   },
   "source": [
    "**This notebook is an exercise in the [Data Cleaning](https://www.kaggle.com/learn/data-cleaning) course.  You can reference the tutorial at [this link](https://www.kaggle.com/alexisbcook/character-encodings).**\n",
    "\n",
    "---\n"
   ]
  },
  {
   "cell_type": "markdown",
   "id": "d59bda87",
   "metadata": {
    "papermill": {
     "duration": 0.005096,
     "end_time": "2022-09-09T17:26:06.808146",
     "exception": false,
     "start_time": "2022-09-09T17:26:06.803050",
     "status": "completed"
    },
    "tags": []
   },
   "source": [
    "In this exercise, you'll apply what you learned in the **Character encodings** tutorial.\n",
    "\n",
    "# Setup\n",
    "\n",
    "The questions below will give you feedback on your work. Run the following cell to set up the feedback system."
   ]
  },
  {
   "cell_type": "code",
   "execution_count": 1,
   "id": "a23cda20",
   "metadata": {
    "execution": {
     "iopub.execute_input": "2022-09-09T17:26:06.819892Z",
     "iopub.status.busy": "2022-09-09T17:26:06.819135Z",
     "iopub.status.idle": "2022-09-09T17:26:06.923656Z",
     "shell.execute_reply": "2022-09-09T17:26:06.922424Z"
    },
    "papermill": {
     "duration": 0.11421,
     "end_time": "2022-09-09T17:26:06.927112",
     "exception": false,
     "start_time": "2022-09-09T17:26:06.812902",
     "status": "completed"
    },
    "tags": []
   },
   "outputs": [
    {
     "name": "stdout",
     "output_type": "stream",
     "text": [
      "Setup Complete\n"
     ]
    }
   ],
   "source": [
    "from learntools.core import binder\n",
    "binder.bind(globals())\n",
    "from learntools.data_cleaning.ex4 import *\n",
    "print(\"Setup Complete\")"
   ]
  },
  {
   "cell_type": "markdown",
   "id": "03bc3216",
   "metadata": {
    "papermill": {
     "duration": 0.004588,
     "end_time": "2022-09-09T17:26:06.936593",
     "exception": false,
     "start_time": "2022-09-09T17:26:06.932005",
     "status": "completed"
    },
    "tags": []
   },
   "source": [
    "# Get our environment set up\n",
    "\n",
    "The first thing we'll need to do is load in the libraries we'll be using."
   ]
  },
  {
   "cell_type": "code",
   "execution_count": 2,
   "id": "51c842ba",
   "metadata": {
    "execution": {
     "iopub.execute_input": "2022-09-09T17:26:06.948831Z",
     "iopub.status.busy": "2022-09-09T17:26:06.947987Z",
     "iopub.status.idle": "2022-09-09T17:26:06.953692Z",
     "shell.execute_reply": "2022-09-09T17:26:06.952816Z"
    },
    "papermill": {
     "duration": 0.014629,
     "end_time": "2022-09-09T17:26:06.956128",
     "exception": false,
     "start_time": "2022-09-09T17:26:06.941499",
     "status": "completed"
    },
    "tags": []
   },
   "outputs": [],
   "source": [
    "# modules we'll use\n",
    "import pandas as pd\n",
    "import numpy as np\n",
    "\n",
    "# helpful character encoding module\n",
    "import chardet\n",
    "\n",
    "# set seed for reproducibility\n",
    "np.random.seed(0)"
   ]
  },
  {
   "cell_type": "markdown",
   "id": "48ee9dd9",
   "metadata": {
    "papermill": {
     "duration": 0.004529,
     "end_time": "2022-09-09T17:26:06.965560",
     "exception": false,
     "start_time": "2022-09-09T17:26:06.961031",
     "status": "completed"
    },
    "tags": []
   },
   "source": [
    "# 1) What are encodings?\n",
    "\n",
    "You're working with a dataset composed of bytes.  Run the code cell below to print a sample entry."
   ]
  },
  {
   "cell_type": "code",
   "execution_count": 3,
   "id": "77f24dfc",
   "metadata": {
    "execution": {
     "iopub.execute_input": "2022-09-09T17:26:06.977588Z",
     "iopub.status.busy": "2022-09-09T17:26:06.976760Z",
     "iopub.status.idle": "2022-09-09T17:26:06.983360Z",
     "shell.execute_reply": "2022-09-09T17:26:06.982051Z"
    },
    "papermill": {
     "duration": 0.015325,
     "end_time": "2022-09-09T17:26:06.985687",
     "exception": false,
     "start_time": "2022-09-09T17:26:06.970362",
     "status": "completed"
    },
    "tags": []
   },
   "outputs": [
    {
     "name": "stdout",
     "output_type": "stream",
     "text": [
      "b'\\xa7A\\xa6n'\n",
      "data type: <class 'bytes'>\n"
     ]
    }
   ],
   "source": [
    "sample_entry = b'\\xa7A\\xa6n'\n",
    "print(sample_entry)\n",
    "print('data type:', type(sample_entry))"
   ]
  },
  {
   "cell_type": "markdown",
   "id": "73ee75e9",
   "metadata": {
    "papermill": {
     "duration": 0.004639,
     "end_time": "2022-09-09T17:26:06.995168",
     "exception": false,
     "start_time": "2022-09-09T17:26:06.990529",
     "status": "completed"
    },
    "tags": []
   },
   "source": [
    "You notice that it doesn't use the standard UTF-8 encoding. \n",
    "\n",
    "Use the next code cell to create a variable `new_entry` that changes the encoding from `\"big5-tw\"` to `\"utf-8\"`.  `new_entry` should have the bytes datatype."
   ]
  },
  {
   "cell_type": "code",
   "execution_count": 4,
   "id": "649d28c2",
   "metadata": {
    "execution": {
     "iopub.execute_input": "2022-09-09T17:26:07.007388Z",
     "iopub.status.busy": "2022-09-09T17:26:07.006551Z",
     "iopub.status.idle": "2022-09-09T17:26:07.018929Z",
     "shell.execute_reply": "2022-09-09T17:26:07.017818Z"
    },
    "papermill": {
     "duration": 0.021197,
     "end_time": "2022-09-09T17:26:07.021305",
     "exception": false,
     "start_time": "2022-09-09T17:26:07.000108",
     "status": "completed"
    },
    "tags": []
   },
   "outputs": [
    {
     "data": {
      "application/javascript": [
       "parent.postMessage({\"jupyterEvent\": \"custom.exercise_interaction\", \"data\": {\"outcomeType\": 1, \"valueTowardsCompletion\": 0.3333333333333333, \"interactionType\": 1, \"questionType\": 1, \"questionId\": \"1_EncodingsIntro\", \"learnToolsVersion\": \"0.3.4\", \"failureMessage\": \"\", \"exceptionClass\": \"\", \"trace\": \"\"}}, \"*\")"
      ],
      "text/plain": [
       "<IPython.core.display.Javascript object>"
      ]
     },
     "metadata": {},
     "output_type": "display_data"
    },
    {
     "data": {
      "text/markdown": [
       "<span style=\"color:#33cc33\">Correct</span>"
      ],
      "text/plain": [
       "Correct"
      ]
     },
     "metadata": {},
     "output_type": "display_data"
    }
   ],
   "source": [
    "before = sample_entry.decode(\"big5-tw\")\n",
    "new_entry = before.encode()\n",
    "\n",
    "# Check your answer\n",
    "q1.check()"
   ]
  },
  {
   "cell_type": "code",
   "execution_count": 5,
   "id": "ebdbaba2",
   "metadata": {
    "execution": {
     "iopub.execute_input": "2022-09-09T17:26:07.034053Z",
     "iopub.status.busy": "2022-09-09T17:26:07.033241Z",
     "iopub.status.idle": "2022-09-09T17:26:07.038281Z",
     "shell.execute_reply": "2022-09-09T17:26:07.037284Z"
    },
    "papermill": {
     "duration": 0.014339,
     "end_time": "2022-09-09T17:26:07.040767",
     "exception": false,
     "start_time": "2022-09-09T17:26:07.026428",
     "status": "completed"
    },
    "tags": []
   },
   "outputs": [],
   "source": [
    "# Lines below will give you a hint or solution code\n",
    "#q1.hint()\n",
    "#q1.solution()"
   ]
  },
  {
   "cell_type": "markdown",
   "id": "9fd62dae",
   "metadata": {
    "papermill": {
     "duration": 0.005219,
     "end_time": "2022-09-09T17:26:07.051646",
     "exception": false,
     "start_time": "2022-09-09T17:26:07.046427",
     "status": "completed"
    },
    "tags": []
   },
   "source": [
    "# 2) Reading in files with encoding problems\n",
    "\n",
    "Use the code cell below to read in this file at path `\"../input/fatal-police-shootings-in-the-us/PoliceKillingsUS.csv\"`.  \n",
    "\n",
    "Figure out what the correct encoding should be and read in the file to a DataFrame `police_killings`."
   ]
  },
  {
   "cell_type": "code",
   "execution_count": 6,
   "id": "e77db556",
   "metadata": {
    "execution": {
     "iopub.execute_input": "2022-09-09T17:26:07.064992Z",
     "iopub.status.busy": "2022-09-09T17:26:07.064190Z",
     "iopub.status.idle": "2022-09-09T17:26:07.091539Z",
     "shell.execute_reply": "2022-09-09T17:26:07.090281Z"
    },
    "papermill": {
     "duration": 0.036524,
     "end_time": "2022-09-09T17:26:07.093903",
     "exception": false,
     "start_time": "2022-09-09T17:26:07.057379",
     "status": "completed"
    },
    "tags": []
   },
   "outputs": [
    {
     "data": {
      "application/javascript": [
       "parent.postMessage({\"jupyterEvent\": \"custom.exercise_interaction\", \"data\": {\"outcomeType\": 1, \"valueTowardsCompletion\": 0.3333333333333333, \"interactionType\": 1, \"questionType\": 1, \"questionId\": \"2_ReadIn\", \"learnToolsVersion\": \"0.3.4\", \"failureMessage\": \"\", \"exceptionClass\": \"\", \"trace\": \"\"}}, \"*\")"
      ],
      "text/plain": [
       "<IPython.core.display.Javascript object>"
      ]
     },
     "metadata": {},
     "output_type": "display_data"
    },
    {
     "data": {
      "text/markdown": [
       "<span style=\"color:#33cc33\">Correct</span>"
      ],
      "text/plain": [
       "Correct"
      ]
     },
     "metadata": {},
     "output_type": "display_data"
    }
   ],
   "source": [
    "# TODO: Load in the DataFrame correctly.\n",
    "police_killings = pd.read_csv('../input/fatal-police-shootings-in-the-us/PoliceKillingsUS.csv', encoding='Windows-1252')\n",
    "\n",
    "# Check your answer\n",
    "q2.check()"
   ]
  },
  {
   "cell_type": "markdown",
   "id": "6b8fb671",
   "metadata": {
    "papermill": {
     "duration": 0.005173,
     "end_time": "2022-09-09T17:26:07.104925",
     "exception": false,
     "start_time": "2022-09-09T17:26:07.099752",
     "status": "completed"
    },
    "tags": []
   },
   "source": [
    "Feel free to use any additional code cells for supplemental work.  To get credit for finishing this question, you'll need to run `q2.check()` and get a result of **Correct**."
   ]
  },
  {
   "cell_type": "code",
   "execution_count": 7,
   "id": "c437b12c",
   "metadata": {
    "execution": {
     "iopub.execute_input": "2022-09-09T17:26:07.117478Z",
     "iopub.status.busy": "2022-09-09T17:26:07.117041Z",
     "iopub.status.idle": "2022-09-09T17:26:08.696642Z",
     "shell.execute_reply": "2022-09-09T17:26:08.695385Z"
    },
    "papermill": {
     "duration": 1.588816,
     "end_time": "2022-09-09T17:26:08.699163",
     "exception": false,
     "start_time": "2022-09-09T17:26:07.110347",
     "status": "completed"
    },
    "tags": []
   },
   "outputs": [
    {
     "name": "stdout",
     "output_type": "stream",
     "text": [
      "{'encoding': 'Windows-1252', 'confidence': 0.73, 'language': ''}\n"
     ]
    }
   ],
   "source": [
    "# (Optional) Use this code cell for any additional work.\n",
    "with open(\"../input/fatal-police-shootings-in-the-us/PoliceKillingsUS.csv\", 'rb') as police:\n",
    "    \n",
    "    char = chardet.detect(police.read(100000))\n",
    "\n",
    "print(char)"
   ]
  },
  {
   "cell_type": "code",
   "execution_count": 8,
   "id": "0d69ed43",
   "metadata": {
    "execution": {
     "iopub.execute_input": "2022-09-09T17:26:08.713444Z",
     "iopub.status.busy": "2022-09-09T17:26:08.712005Z",
     "iopub.status.idle": "2022-09-09T17:26:08.717267Z",
     "shell.execute_reply": "2022-09-09T17:26:08.716181Z"
    },
    "papermill": {
     "duration": 0.014602,
     "end_time": "2022-09-09T17:26:08.719680",
     "exception": false,
     "start_time": "2022-09-09T17:26:08.705078",
     "status": "completed"
    },
    "tags": []
   },
   "outputs": [],
   "source": [
    "# Lines below will give you a hint or solution code\n",
    "#q2.hint()\n",
    "#q2.solution()"
   ]
  },
  {
   "cell_type": "markdown",
   "id": "71a9b88c",
   "metadata": {
    "papermill": {
     "duration": 0.005154,
     "end_time": "2022-09-09T17:26:08.730722",
     "exception": false,
     "start_time": "2022-09-09T17:26:08.725568",
     "status": "completed"
    },
    "tags": []
   },
   "source": [
    "# 3) Saving your files with UTF-8 encoding\n",
    "\n",
    "Save a version of the police killings dataset to CSV with UTF-8 encoding.  Your answer will be marked correct after saving this file.  \n",
    "\n",
    "Note: When using the `to_csv()` method, supply only the name of the file (e.g., `\"my_file.csv\"`).  This saves the file at the filepath `\"/kaggle/working/my_file.csv\"`."
   ]
  },
  {
   "cell_type": "code",
   "execution_count": 9,
   "id": "f744872a",
   "metadata": {
    "execution": {
     "iopub.execute_input": "2022-09-09T17:26:08.743314Z",
     "iopub.status.busy": "2022-09-09T17:26:08.742915Z",
     "iopub.status.idle": "2022-09-09T17:26:08.775996Z",
     "shell.execute_reply": "2022-09-09T17:26:08.774858Z"
    },
    "papermill": {
     "duration": 0.042396,
     "end_time": "2022-09-09T17:26:08.778516",
     "exception": false,
     "start_time": "2022-09-09T17:26:08.736120",
     "status": "completed"
    },
    "tags": []
   },
   "outputs": [
    {
     "data": {
      "application/javascript": [
       "parent.postMessage({\"jupyterEvent\": \"custom.exercise_interaction\", \"data\": {\"outcomeType\": 1, \"valueTowardsCompletion\": 0.3333333333333333, \"interactionType\": 1, \"questionType\": 2, \"questionId\": \"3_SaveCSV\", \"learnToolsVersion\": \"0.3.4\", \"failureMessage\": \"\", \"exceptionClass\": \"\", \"trace\": \"\"}}, \"*\")"
      ],
      "text/plain": [
       "<IPython.core.display.Javascript object>"
      ]
     },
     "metadata": {},
     "output_type": "display_data"
    },
    {
     "data": {
      "text/markdown": [
       "<span style=\"color:#33cc33\">Correct</span>"
      ],
      "text/plain": [
       "Correct"
      ]
     },
     "metadata": {},
     "output_type": "display_data"
    }
   ],
   "source": [
    "# TODO: Save the police killings dataset to CSV\n",
    "my_file = police_killings.to_csv(\"PoliceKillingsUS_UTF.csv\")\n",
    "\n",
    "# Check your answer\n",
    "q3.check()"
   ]
  },
  {
   "cell_type": "code",
   "execution_count": 10,
   "id": "89a3f033",
   "metadata": {
    "execution": {
     "iopub.execute_input": "2022-09-09T17:26:08.791511Z",
     "iopub.status.busy": "2022-09-09T17:26:08.791109Z",
     "iopub.status.idle": "2022-09-09T17:26:08.795738Z",
     "shell.execute_reply": "2022-09-09T17:26:08.794684Z"
    },
    "papermill": {
     "duration": 0.013927,
     "end_time": "2022-09-09T17:26:08.798151",
     "exception": false,
     "start_time": "2022-09-09T17:26:08.784224",
     "status": "completed"
    },
    "tags": []
   },
   "outputs": [],
   "source": [
    "# Lines below will give you a hint or solution code\n",
    "#q3.hint()\n",
    "#q3.solution()"
   ]
  },
  {
   "cell_type": "markdown",
   "id": "82a98529",
   "metadata": {
    "papermill": {
     "duration": 0.005262,
     "end_time": "2022-09-09T17:26:08.809870",
     "exception": false,
     "start_time": "2022-09-09T17:26:08.804608",
     "status": "completed"
    },
    "tags": []
   },
   "source": [
    "# (Optional) More practice\n",
    "\n",
    "Check out [this dataset of files in different character encodings](https://www.kaggle.com/rtatman/character-encoding-examples). Can you read in all the files with their original encodings and them save them out as UTF-8 files?\n",
    "\n",
    "If you have a file that's in UTF-8 but has just a couple of weird-looking characters in it, you can try out the [ftfy module](https://ftfy.readthedocs.io/en/latest/#) and see if it helps. \n",
    "\n",
    "# Keep going\n",
    "\n",
    "In the final lesson, learn how to [**clean up inconsistent text entries**](https://www.kaggle.com/alexisbcook/inconsistent-data-entry) in your dataset."
   ]
  },
  {
   "cell_type": "markdown",
   "id": "5d469d9c",
   "metadata": {
    "papermill": {
     "duration": 0.005179,
     "end_time": "2022-09-09T17:26:08.820844",
     "exception": false,
     "start_time": "2022-09-09T17:26:08.815665",
     "status": "completed"
    },
    "tags": []
   },
   "source": [
    "---\n",
    "\n",
    "\n",
    "\n",
    "\n",
    "*Have questions or comments? Visit the [course discussion forum](https://www.kaggle.com/learn/data-cleaning/discussion) to chat with other learners.*"
   ]
  }
 ],
 "metadata": {
  "kernelspec": {
   "display_name": "Python 3",
   "language": "python",
   "name": "python3"
  },
  "language_info": {
   "codemirror_mode": {
    "name": "ipython",
    "version": 3
   },
   "file_extension": ".py",
   "mimetype": "text/x-python",
   "name": "python",
   "nbconvert_exporter": "python",
   "pygments_lexer": "ipython3",
   "version": "3.7.12"
  },
  "papermill": {
   "default_parameters": {},
   "duration": 12.209224,
   "end_time": "2022-09-09T17:26:09.448230",
   "environment_variables": {},
   "exception": null,
   "input_path": "__notebook__.ipynb",
   "output_path": "__notebook__.ipynb",
   "parameters": {},
   "start_time": "2022-09-09T17:25:57.239006",
   "version": "2.3.4"
  }
 },
 "nbformat": 4,
 "nbformat_minor": 5
}
